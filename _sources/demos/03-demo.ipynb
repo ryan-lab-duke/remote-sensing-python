{
 "cells": [
  {
   "cell_type": "markdown",
   "id": "7b7511e8",
   "metadata": {},
   "source": [
    "# Image classification in Python\n",
    "\n",
    "In the previous week, we computed some band indices and learnt that positive NDWI values were likely to be associated with water (e.g lakes, rivers, ocean). But what if someone wanted to know how much water was in the image? To do this, we would first have to classify pixels that are likely to be water. In this week, we will learn how to do this, and other quantitative analysis, by combining raster and vector data. "
   ]
  },
  {
   "cell_type": "code",
   "execution_count": 45,
   "id": "1d35411f",
   "metadata": {},
   "outputs": [
    {
     "data": {
      "text/plain": [
       "['data/landsat/band1.tif',\n",
       " 'data/landsat/band2.tif',\n",
       " 'data/landsat/band3.tif',\n",
       " 'data/landsat/band4.tif',\n",
       " 'data/landsat/band5.tif',\n",
       " 'data/landsat/band6.tif',\n",
       " 'data/landsat/band7.tif']"
      ]
     },
     "execution_count": 45,
     "metadata": {},
     "output_type": "execute_result"
    }
   ],
   "source": [
    "# Import packages\n",
    "import glob\n",
    "import numpy as np\n",
    "import rasterio\n",
    "import matplotlib.pyplot as plt\n",
    "\n",
    "# Define list of Landsat bands\n",
    "files = sorted(glob.glob('data/landsat/*.tif'))\n",
    "files"
   ]
  },
  {
   "cell_type": "markdown",
   "id": "cf2b8536",
   "metadata": {},
   "source": [
    "## Preparing data\n",
    "\n",
    "We first need to produce a true color image so that we can identify our classes. Below is an example of exporting a true color image as a GeoTIFF that can be imported into QGIS. Although note that any combination of bands could be exported (e.g. color infrared) depending on what features we would like to identify. "
   ]
  },
  {
   "cell_type": "code",
   "execution_count": 8,
   "id": "7106c9df",
   "metadata": {},
   "outputs": [],
   "source": [
    "# Define paths to data\n",
    "src_2 = rasterio.open(files[1])\n",
    "band_2 = src_2.read(1)\n",
    "src_3 = rasterio.open(files[2])\n",
    "band_3 = src_3.read(1)\n",
    "src_4 = rasterio.open(files[3])\n",
    "band_4 = src_4.read(1)\n",
    "\n",
    "# Write true color image\n",
    "meta = {'driver': \"GTiff\",\n",
    "        'height': band_2.shape[0],\n",
    "        'width': band_2.shape[1],\n",
    "        'count': 3,\n",
    "        'dtype': band_2.dtype,\n",
    "        'crs': src_2.crs,\n",
    "        'transform':src_2.transform}\n",
    "        \n",
    "with rasterio.open(\"data/true-color.tif\", 'w', **meta) as dst:\n",
    "    dst.write(band_4, 1)\n",
    "    dst.write(band_3, 2)\n",
    "    dst.write(band_2, 3)"
   ]
  },
  {
   "cell_type": "markdown",
   "id": "823ef601-6634-4c98-a0eb-b12aa96f67b4",
   "metadata": {},
   "source": [
    "## Produce training dataset\n",
    "\n",
    "Next, we will import the GeoTIFF into QGIS and generate a training dataset that we can use for our supervised classification. The easiest way to do this is to create polygons that contain our features of interest and save it as a shapefile layer.\n",
    "\n",
    "```{image} images/create-layer.png\n",
    ":alt: create shapefile layer\n",
    ":class: bg-primary mb-1\n",
    ":width: 600px\n",
    ":align: center\n",
    "```\n",
    "\n",
    "In this example, we will make a new shapefile called `lake.shp`, making sure that **Geometry type** is set to `Polygon` and the **CRS** is set to the **same as our Lansdat true color image**. In our case, this is `WGS 84 / UTM Zone 10N`. \n",
    "\n",
    "```{image} images/layer-attributes.png\n",
    ":alt: create shapefile layer\n",
    ":class: bg-primary mb-1\n",
    ":width: 600px\n",
    ":align: center\n",
    "```\n",
    "\n",
    "Once we have created a new shapefile, we can edit it by selecting it in the **Layers** panel (i.e. by left-clicking it once) and clicking **Toggle Editing** (the little pencil button). \n",
    "\n",
    "```{image} images/toggle.png\n",
    ":alt: toggle editing\n",
    ":class: bg-primary mb-1\n",
    ":width: 600px\n",
    ":align: center\n",
    "```\n",
    "\n",
    "Now we can click the **Add Polygon Feature** button to the right of the **Toggle Editing** button to make a new polyon. Digitize a small area within the feature of interest (in our case, some pixels in the lake), set the **id** to 1 (although it doesn't matter which number we choose), and click **OK**. Repeat this step, to sample several lakes in our image. \n",
    "\n",
    "```{image} images/digitize-polygon.png\n",
    ":alt: digitize\n",
    ":class: bg-primary mb-1\n",
    ":width: 600px\n",
    ":align: center\n",
    "```\n",
    "\n",
    "When we feel good about our training dataset, we can click the **Toggle Editing** button again to save our shapefile. We can then repeat this procedure for every feature that we want to classify. In our example, we have digitized seven features that include: lake, forest, cleared, river, sand, ocean, and grass. \n",
    "\n",
    "```{image} images/classes.png\n",
    ":alt: digitize\n",
    ":class: bg-primary mb-1\n",
    ":width: 200px\n",
    ":align: center\n",
    "```"
   ]
  },
  {
   "cell_type": "markdown",
   "id": "2c8f1161",
   "metadata": {},
   "source": [
    "## Masking raster data using shapefile\n",
    "\n",
    "We now should have several shapefiles containing polygons that outline our features of interest. We can read them using Python using the `GeoPandas` package. "
   ]
  },
  {
   "cell_type": "code",
   "execution_count": 9,
   "id": "529096b1-e360-4d50-aa6b-1609c7cbb47b",
   "metadata": {},
   "outputs": [
    {
     "data": {
      "text/html": [
       "<div>\n",
       "<style scoped>\n",
       "    .dataframe tbody tr th:only-of-type {\n",
       "        vertical-align: middle;\n",
       "    }\n",
       "\n",
       "    .dataframe tbody tr th {\n",
       "        vertical-align: top;\n",
       "    }\n",
       "\n",
       "    .dataframe thead th {\n",
       "        text-align: right;\n",
       "    }\n",
       "</style>\n",
       "<table border=\"1\" class=\"dataframe\">\n",
       "  <thead>\n",
       "    <tr style=\"text-align: right;\">\n",
       "      <th></th>\n",
       "      <th>id</th>\n",
       "      <th>geometry</th>\n",
       "    </tr>\n",
       "  </thead>\n",
       "  <tbody>\n",
       "    <tr>\n",
       "      <th>0</th>\n",
       "      <td>1</td>\n",
       "      <td>POLYGON ((411681.33 4858920.1, 412387.6 485888...</td>\n",
       "    </tr>\n",
       "    <tr>\n",
       "      <th>1</th>\n",
       "      <td>2</td>\n",
       "      <td>POLYGON ((409741.747 4847556.896, 409822.866 4...</td>\n",
       "    </tr>\n",
       "    <tr>\n",
       "      <th>2</th>\n",
       "      <td>3</td>\n",
       "      <td>POLYGON ((409904.889 4851822.25, 410222.19 485...</td>\n",
       "    </tr>\n",
       "  </tbody>\n",
       "</table>\n",
       "</div>"
      ],
      "text/plain": [
       "   id                                           geometry\n",
       "0   1  POLYGON ((411681.33 4858920.1, 412387.6 485888...\n",
       "1   2  POLYGON ((409741.747 4847556.896, 409822.866 4...\n",
       "2   3  POLYGON ((409904.889 4851822.25, 410222.19 485..."
      ]
     },
     "execution_count": 9,
     "metadata": {},
     "output_type": "execute_result"
    }
   ],
   "source": [
    "import geopandas as gpd\n",
    "lake = gpd.read_file('data/lake.shp')\n",
    "lake"
   ]
  },
  {
   "cell_type": "markdown",
   "id": "ba9c19e4-f9fe-4ccd-b023-34ddf79f8ab7",
   "metadata": {},
   "source": [
    "Our **GeoDataFrame** contains three rows, each of which is a different polygon. The **geometry** column contains the coordinates that represent the polygons. \n",
    "\n",
    "`Rasterio` provides a function called [`mask.mask`](https://rasterio.readthedocs.io/en/latest/api/rasterio.mask.html#) for masking raster data using these polygons. This function has a few arguments. The first is the raster dataset (i.e. `src` in our case). The second argument is the shape to mask. In the docs, it notes that this shape shold be a format that implements the Python geo interface protocol (such as a Shapely Polygon). \n",
    "\n",
    "So we will have to specify only the **geometry** of our `GeoPandas` DataFrame, not the DataFrame object itself. The **Invert** argument determines whether pixels inside or outside shapes will be masked. The **nodata** argument allows us to set the no data value (i.e. values of pixels outside the mask)."
   ]
  },
  {
   "cell_type": "code",
   "execution_count": 15,
   "id": "b38effef",
   "metadata": {},
   "outputs": [
    {
     "data": {
      "text/plain": [
       "array([[[0, 0, 0, ..., 0, 0, 0],\n",
       "        [0, 0, 0, ..., 0, 0, 0],\n",
       "        [0, 0, 0, ..., 0, 0, 0],\n",
       "        ...,\n",
       "        [0, 0, 0, ..., 0, 0, 0],\n",
       "        [0, 0, 0, ..., 0, 0, 0],\n",
       "        [0, 0, 0, ..., 0, 0, 0]]], shape=(1, 1422, 1208), dtype=uint16)"
      ]
     },
     "execution_count": 15,
     "metadata": {},
     "output_type": "execute_result"
    }
   ],
   "source": [
    "import rasterio.mask\n",
    "lake_mask, transform = rasterio.mask.mask(src_2, lake.geometry, invert=False, nodata=0)\n",
    "lake_mask"
   ]
  },
  {
   "cell_type": "markdown",
   "id": "9bcff1f0-07ab-42b0-93bd-c7dd80f192b2",
   "metadata": {},
   "source": [
    "````{margin}\n",
    "```{note}\n",
    "`src_2` represents **Band 2** (i.e the Blue band)\n",
    "```\n",
    "````"
   ]
  },
  {
   "cell_type": "markdown",
   "id": "d0826f77-151b-4de2-a411-a42bf4547074",
   "metadata": {},
   "source": [
    "This function produced an arry called `lake_mask` with the same dimensions as the original Landsat band except that all values outside of the lake polygons were classified as zeros. Therefore any value higher than zero is a pixel from the Landsat band that is within the lake polygons. We can subset these values by masking the array like so:"
   ]
  },
  {
   "cell_type": "code",
   "execution_count": 18,
   "id": "cee1de63-155a-4970-b4fd-8144a735f361",
   "metadata": {},
   "outputs": [],
   "source": [
    "lake_mask_values = lake_mask[lake_mask != 0]"
   ]
  },
  {
   "cell_type": "markdown",
   "id": "c56b80cd-0124-455a-bd32-432345ba833c",
   "metadata": {},
   "source": [
    "## Format training dataset\n",
    "\n",
    "To classify our image using `scikit-learn`, we need to format these values as a labels and features. It's easiest to do this by constructing a `pandas` `DataFrame`. "
   ]
  },
  {
   "cell_type": "code",
   "execution_count": 27,
   "id": "aaf83ac0-df69-47bc-83e8-2a80ae5f00ce",
   "metadata": {},
   "outputs": [
    {
     "data": {
      "text/html": [
       "<div>\n",
       "<style scoped>\n",
       "    .dataframe tbody tr th:only-of-type {\n",
       "        vertical-align: middle;\n",
       "    }\n",
       "\n",
       "    .dataframe tbody tr th {\n",
       "        vertical-align: top;\n",
       "    }\n",
       "\n",
       "    .dataframe thead th {\n",
       "        text-align: right;\n",
       "    }\n",
       "</style>\n",
       "<table border=\"1\" class=\"dataframe\">\n",
       "  <thead>\n",
       "    <tr style=\"text-align: right;\">\n",
       "      <th></th>\n",
       "      <th>label</th>\n",
       "      <th>band2</th>\n",
       "    </tr>\n",
       "  </thead>\n",
       "  <tbody>\n",
       "    <tr>\n",
       "      <th>0</th>\n",
       "      <td>1</td>\n",
       "      <td>7789</td>\n",
       "    </tr>\n",
       "    <tr>\n",
       "      <th>1</th>\n",
       "      <td>1</td>\n",
       "      <td>7789</td>\n",
       "    </tr>\n",
       "    <tr>\n",
       "      <th>2</th>\n",
       "      <td>1</td>\n",
       "      <td>7831</td>\n",
       "    </tr>\n",
       "    <tr>\n",
       "      <th>3</th>\n",
       "      <td>1</td>\n",
       "      <td>7872</td>\n",
       "    </tr>\n",
       "    <tr>\n",
       "      <th>4</th>\n",
       "      <td>1</td>\n",
       "      <td>7896</td>\n",
       "    </tr>\n",
       "  </tbody>\n",
       "</table>\n",
       "</div>"
      ],
      "text/plain": [
       "   label  band2\n",
       "0      1   7789\n",
       "1      1   7789\n",
       "2      1   7831\n",
       "3      1   7872\n",
       "4      1   7896"
      ]
     },
     "execution_count": 27,
     "metadata": {},
     "output_type": "execute_result"
    }
   ],
   "source": [
    "import pandas as pd\n",
    "df = pd.DataFrame(list(zip(np.full(lake_mask_values.shape, 1), lake_mask_values)), columns=['label', 'band2'])\n",
    "df.head()"
   ]
  },
  {
   "cell_type": "markdown",
   "id": "57b94c91-6f1b-4419-baed-918cd9ed408c",
   "metadata": {},
   "source": [
    "There are a couple of things going on here. We first defined a list of `ones` using [`np.full`][https://numpy.org/doc/stable/reference/generated/numpy.full.html] which we [`zipped`][https://docs.python.org/3.3/library/functions.html#zip] with the Band 2 values that represent lake pixels. Then we converted this to a `list` and then to a `pandas DataFrame` with the column names `label` and `band2`. \n",
    "\n",
    "Since our classification will depend on several bands, we can make a DataFrame that represent the pixel values of every band using a `for` loop. "
   ]
  },
  {
   "cell_type": "code",
   "execution_count": 42,
   "id": "591264f9-355f-410c-8f2f-6d5c98136dd5",
   "metadata": {},
   "outputs": [
    {
     "data": {
      "text/html": [
       "<div>\n",
       "<style scoped>\n",
       "    .dataframe tbody tr th:only-of-type {\n",
       "        vertical-align: middle;\n",
       "    }\n",
       "\n",
       "    .dataframe tbody tr th {\n",
       "        vertical-align: top;\n",
       "    }\n",
       "\n",
       "    .dataframe thead th {\n",
       "        text-align: right;\n",
       "    }\n",
       "</style>\n",
       "<table border=\"1\" class=\"dataframe\">\n",
       "  <thead>\n",
       "    <tr style=\"text-align: right;\">\n",
       "      <th></th>\n",
       "      <th>band1</th>\n",
       "      <th>band2</th>\n",
       "      <th>band3</th>\n",
       "      <th>band4</th>\n",
       "      <th>band5</th>\n",
       "      <th>band6</th>\n",
       "      <th>band7</th>\n",
       "      <th>labels</th>\n",
       "    </tr>\n",
       "  </thead>\n",
       "  <tbody>\n",
       "    <tr>\n",
       "      <th>0</th>\n",
       "      <td>7285</td>\n",
       "      <td>7789</td>\n",
       "      <td>9017</td>\n",
       "      <td>8582</td>\n",
       "      <td>7863</td>\n",
       "      <td>8011</td>\n",
       "      <td>7970</td>\n",
       "      <td>1</td>\n",
       "    </tr>\n",
       "    <tr>\n",
       "      <th>1</th>\n",
       "      <td>7323</td>\n",
       "      <td>7789</td>\n",
       "      <td>9020</td>\n",
       "      <td>8584</td>\n",
       "      <td>7851</td>\n",
       "      <td>7982</td>\n",
       "      <td>7942</td>\n",
       "      <td>1</td>\n",
       "    </tr>\n",
       "    <tr>\n",
       "      <th>2</th>\n",
       "      <td>7363</td>\n",
       "      <td>7831</td>\n",
       "      <td>9026</td>\n",
       "      <td>8595</td>\n",
       "      <td>7849</td>\n",
       "      <td>7968</td>\n",
       "      <td>7928</td>\n",
       "      <td>1</td>\n",
       "    </tr>\n",
       "    <tr>\n",
       "      <th>3</th>\n",
       "      <td>7414</td>\n",
       "      <td>7872</td>\n",
       "      <td>9051</td>\n",
       "      <td>8615</td>\n",
       "      <td>7860</td>\n",
       "      <td>7959</td>\n",
       "      <td>7916</td>\n",
       "      <td>1</td>\n",
       "    </tr>\n",
       "    <tr>\n",
       "      <th>4</th>\n",
       "      <td>7412</td>\n",
       "      <td>7896</td>\n",
       "      <td>9020</td>\n",
       "      <td>8591</td>\n",
       "      <td>7860</td>\n",
       "      <td>7942</td>\n",
       "      <td>7894</td>\n",
       "      <td>1</td>\n",
       "    </tr>\n",
       "  </tbody>\n",
       "</table>\n",
       "</div>"
      ],
      "text/plain": [
       "   band1  band2  band3  band4  band5  band6  band7  labels\n",
       "0   7285   7789   9017   8582   7863   8011   7970       1\n",
       "1   7323   7789   9020   8584   7851   7982   7942       1\n",
       "2   7363   7831   9026   8595   7849   7968   7928       1\n",
       "3   7414   7872   9051   8615   7860   7959   7916       1\n",
       "4   7412   7896   9020   8591   7860   7942   7894       1"
      ]
     },
     "execution_count": 42,
     "metadata": {},
     "output_type": "execute_result"
    }
   ],
   "source": [
    "values = []\n",
    "for file in files:\n",
    "    # Open file\n",
    "    src = rasterio.open(file)\n",
    "    \n",
    "    # Mask\n",
    "    lake_mask, transform = rasterio.mask.mask(src, lake.geometry, invert=False, nodata=0)\n",
    "    \n",
    "    # Append to empty list\n",
    "    values.append(lake_mask[lake_mask != 0])\n",
    "\n",
    "# Make a DataFrame\n",
    "df = pd.DataFrame(values).T\n",
    "\n",
    "# Name columns\n",
    "df.columns = ['band1', 'band2', 'band3', 'band4', 'band5', 'band6', 'band7']\n",
    "\n",
    "# Define labels column\n",
    "df['labels'] = np.full(df.shape[0], 1)\n",
    "df.head()"
   ]
  },
  {
   "cell_type": "markdown",
   "id": "19ba894f-eb4b-472d-8116-a3ee9af6413a",
   "metadata": {},
   "source": [
    "We actually have seven features so we need another for loop that iterates over every feature that we digitized."
   ]
  },
  {
   "cell_type": "code",
   "execution_count": 63,
   "id": "d1ca6bba-c94b-4c8d-acf4-3fc78d847316",
   "metadata": {},
   "outputs": [],
   "source": [
    "# Define list of Landsat bands\n",
    "shapefiles = sorted(glob.glob('data/*.shp'))\n",
    "\n",
    "final_values = []\n",
    "for i in range(len(shapefiles)):\n",
    "    # Read shapefile\n",
    "    feature = gpd.read_file(shapefiles[i])\n",
    "    \n",
    "    values = []\n",
    "    for file in files:\n",
    "        # Open file\n",
    "        src = rasterio.open(file)\n",
    "        \n",
    "        # Mask\n",
    "        feature_mask, transform = rasterio.mask.mask(src, feature.geometry, invert=False, nodata=0)\n",
    "        \n",
    "        # Append to band list\n",
    "        values.append(feature_mask[feature_mask != 0])\n",
    "\n",
    "    # Append to feature list\n",
    "    final_values.append(values)"
   ]
  },
  {
   "cell_type": "code",
   "execution_count": 86,
   "id": "3d63ff7c-c1eb-443b-9469-315fd65ffa8d",
   "metadata": {},
   "outputs": [
    {
     "data": {
      "text/plain": [
       "(6862, 8)"
      ]
     },
     "execution_count": 86,
     "metadata": {},
     "output_type": "execute_result"
    }
   ],
   "source": [
    "df1 = pd.DataFrame(final_values[0]).T\n",
    "df1.columns = ['band1', 'band2', 'band3', 'band4', 'band5', 'band6', 'band7']\n",
    "df1['labels'] = np.full(df1.shape[0], 1)\n",
    "df2 = pd.DataFrame(final_values[1]).T\n",
    "df2.columns = ['band1', 'band2', 'band3', 'band4', 'band5', 'band6', 'band7']\n",
    "df2['labels'] = np.full(df2.shape[0], 2)\n",
    "df3 = pd.DataFrame(final_values[2]).T\n",
    "df3.columns = ['band1', 'band2', 'band3', 'band4', 'band5', 'band6', 'band7']\n",
    "df3['labels'] = np.full(df3.shape[0], 3)\n",
    "df4 = pd.DataFrame(final_values[3]).T\n",
    "df4.columns = ['band1', 'band2', 'band3', 'band4', 'band5', 'band6', 'band7']\n",
    "df4['labels'] = np.full(df4.shape[0], 4)\n",
    "df5 = pd.DataFrame(final_values[4]).T\n",
    "df5.columns = ['band1', 'band2', 'band3', 'band4', 'band5', 'band6', 'band7']\n",
    "df5['labels'] = np.full(df5.shape[0], 5)\n",
    "df6 = pd.DataFrame(final_values[5]).T\n",
    "df6.columns = ['band1', 'band2', 'band3', 'band4', 'band5', 'band6', 'band7']\n",
    "df6['labels'] = np.full(df6.shape[0], 6)\n",
    "df7 = pd.DataFrame(final_values[6]).T\n",
    "df7.columns = ['band1', 'band2', 'band3', 'band4', 'band5', 'band6', 'band7']\n",
    "df7['labels'] = np.full(df7.shape[0], 7)\n",
    "\n",
    "training_data = pd.concat([df1, df2, df3, df4, df5, df6, df7])\n",
    "training_data.shape"
   ]
  },
  {
   "cell_type": "markdown",
   "id": "8fb1bc06-7224-49cc-bb7c-2a9180ee89e3",
   "metadata": {},
   "source": [
    "Sorry, I was in a rush (extra credit if you can make that more concise!).\n",
    "\n",
    "What we have now is a training dataset with several thousand rows and eight columns. Each row is a pixel that we know is contained in the associated `label` class. Our `label` column numerically represents the different features (i.e. `1` corresponds to `cleared`, `2` corresponds to `forest`). "
   ]
  },
  {
   "cell_type": "markdown",
   "id": "980e8eb1-ab85-4603-8368-9433d832aa69",
   "metadata": {},
   "source": [
    "````{margin}\n",
    "```{note}\n",
    "The order of our features is the same as the list of shapefiles we defined earlier.\n",
    "```\n",
    "````"
   ]
  },
  {
   "cell_type": "code",
   "execution_count": 121,
   "id": "58d2379d-fbc6-4030-9dcd-0731cb99e8e6",
   "metadata": {},
   "outputs": [
    {
     "data": {
      "text/plain": [
       "['data/cleared.shp',\n",
       " 'data/forest.shp',\n",
       " 'data/grass.shp',\n",
       " 'data/lake.shp',\n",
       " 'data/ocean.shp',\n",
       " 'data/river.shp',\n",
       " 'data/sand.shp']"
      ]
     },
     "execution_count": 121,
     "metadata": {},
     "output_type": "execute_result"
    }
   ],
   "source": [
    "shapefiles"
   ]
  },
  {
   "cell_type": "markdown",
   "id": "0dd439f9-b323-4295-926f-332e7b6eeda7",
   "metadata": {},
   "source": [
    "## Summary statistics for the training dataset"
   ]
  },
  {
   "cell_type": "code",
   "execution_count": 164,
   "id": "fd9ff0ce-2eaf-488e-8758-e3f30c06ac4c",
   "metadata": {},
   "outputs": [
    {
     "data": {
      "text/html": [
       "<div>\n",
       "<style scoped>\n",
       "    .dataframe tbody tr th:only-of-type {\n",
       "        vertical-align: middle;\n",
       "    }\n",
       "\n",
       "    .dataframe tbody tr th {\n",
       "        vertical-align: top;\n",
       "    }\n",
       "\n",
       "    .dataframe thead th {\n",
       "        text-align: right;\n",
       "    }\n",
       "</style>\n",
       "<table border=\"1\" class=\"dataframe\">\n",
       "  <thead>\n",
       "    <tr style=\"text-align: right;\">\n",
       "      <th></th>\n",
       "      <th>band1</th>\n",
       "      <th>band2</th>\n",
       "      <th>band3</th>\n",
       "      <th>band4</th>\n",
       "      <th>band5</th>\n",
       "      <th>band6</th>\n",
       "      <th>band7</th>\n",
       "    </tr>\n",
       "    <tr>\n",
       "      <th>labels</th>\n",
       "      <th></th>\n",
       "      <th></th>\n",
       "      <th></th>\n",
       "      <th></th>\n",
       "      <th></th>\n",
       "      <th></th>\n",
       "      <th></th>\n",
       "    </tr>\n",
       "  </thead>\n",
       "  <tbody>\n",
       "    <tr>\n",
       "      <th>1</th>\n",
       "      <td>8161.185504</td>\n",
       "      <td>8448.916462</td>\n",
       "      <td>9352.192875</td>\n",
       "      <td>9788.692875</td>\n",
       "      <td>15444.443489</td>\n",
       "      <td>16229.616708</td>\n",
       "      <td>12594.883292</td>\n",
       "    </tr>\n",
       "    <tr>\n",
       "      <th>2</th>\n",
       "      <td>7416.639942</td>\n",
       "      <td>7487.944606</td>\n",
       "      <td>8048.635569</td>\n",
       "      <td>7681.294461</td>\n",
       "      <td>15653.613703</td>\n",
       "      <td>10159.087464</td>\n",
       "      <td>8349.674927</td>\n",
       "    </tr>\n",
       "    <tr>\n",
       "      <th>3</th>\n",
       "      <td>7820.300981</td>\n",
       "      <td>8053.422028</td>\n",
       "      <td>9506.115594</td>\n",
       "      <td>8962.172301</td>\n",
       "      <td>23864.091603</td>\n",
       "      <td>15648.476554</td>\n",
       "      <td>11192.743730</td>\n",
       "    </tr>\n",
       "    <tr>\n",
       "      <th>4</th>\n",
       "      <td>7384.654624</td>\n",
       "      <td>7691.852601</td>\n",
       "      <td>8486.945087</td>\n",
       "      <td>8166.203757</td>\n",
       "      <td>7728.687861</td>\n",
       "      <td>7743.832370</td>\n",
       "      <td>7699.452312</td>\n",
       "    </tr>\n",
       "    <tr>\n",
       "      <th>5</th>\n",
       "      <td>7313.515112</td>\n",
       "      <td>7540.395532</td>\n",
       "      <td>7787.961235</td>\n",
       "      <td>7547.877464</td>\n",
       "      <td>7602.442838</td>\n",
       "      <td>7799.425427</td>\n",
       "      <td>7775.527595</td>\n",
       "    </tr>\n",
       "    <tr>\n",
       "      <th>6</th>\n",
       "      <td>7331.883721</td>\n",
       "      <td>7511.483721</td>\n",
       "      <td>7940.525581</td>\n",
       "      <td>7603.255814</td>\n",
       "      <td>7509.227907</td>\n",
       "      <td>7500.590698</td>\n",
       "      <td>7466.423256</td>\n",
       "    </tr>\n",
       "    <tr>\n",
       "      <th>7</th>\n",
       "      <td>12785.408602</td>\n",
       "      <td>13732.512545</td>\n",
       "      <td>16671.784946</td>\n",
       "      <td>18257.075269</td>\n",
       "      <td>19734.172043</td>\n",
       "      <td>22963.752688</td>\n",
       "      <td>22489.347670</td>\n",
       "    </tr>\n",
       "  </tbody>\n",
       "</table>\n",
       "</div>"
      ],
      "text/plain": [
       "               band1         band2         band3         band4         band5  \\\n",
       "labels                                                                         \n",
       "1        8161.185504   8448.916462   9352.192875   9788.692875  15444.443489   \n",
       "2        7416.639942   7487.944606   8048.635569   7681.294461  15653.613703   \n",
       "3        7820.300981   8053.422028   9506.115594   8962.172301  23864.091603   \n",
       "4        7384.654624   7691.852601   8486.945087   8166.203757   7728.687861   \n",
       "5        7313.515112   7540.395532   7787.961235   7547.877464   7602.442838   \n",
       "6        7331.883721   7511.483721   7940.525581   7603.255814   7509.227907   \n",
       "7       12785.408602  13732.512545  16671.784946  18257.075269  19734.172043   \n",
       "\n",
       "               band6         band7  \n",
       "labels                              \n",
       "1       16229.616708  12594.883292  \n",
       "2       10159.087464   8349.674927  \n",
       "3       15648.476554  11192.743730  \n",
       "4        7743.832370   7699.452312  \n",
       "5        7799.425427   7775.527595  \n",
       "6        7500.590698   7466.423256  \n",
       "7       22963.752688  22489.347670  "
      ]
     },
     "execution_count": 164,
     "metadata": {},
     "output_type": "execute_result"
    }
   ],
   "source": [
    "training_data.groupby('labels').mean()"
   ]
  },
  {
   "cell_type": "markdown",
   "id": "0aa7cd85-a62f-4f7d-b9e8-54cd2a787c23",
   "metadata": {},
   "source": [
    "## Separability testing\n",
    "\n",
    "Before we begin our classification, we should check the separability of our training data. We can do this using a bi-spectral plot."
   ]
  },
  {
   "cell_type": "code",
   "execution_count": 118,
   "id": "73978325-51f7-4f38-b0a9-66ab8bd47aac",
   "metadata": {},
   "outputs": [
    {
     "data": {
      "image/png": "[encoded data removed]",
      "text/plain": [
       "<Figure size 600x400 with 1 Axes>"
      ]
     },
     "metadata": {},
     "output_type": "display_data"
    }
   ],
   "source": [
    "# Define the bands to plot (you can choose any two)\n",
    "x_band = 'band6'\n",
    "y_band = 'band5'\n",
    "\n",
    "# Define colors for each label using a colormap\n",
    "cmap = plt.get_cmap('tab10', 7)  # 7 classes in total\n",
    "\n",
    "# Create the plot\n",
    "plt.figure(figsize=(6, 4))\n",
    "\n",
    "# Plot data for each class label\n",
    "for label in sorted(training_data['labels'].unique()):\n",
    "    class_data = training_data[training_data['labels'] == label]\n",
    "    plt.scatter(\n",
    "        class_data[x_band], \n",
    "        class_data[y_band], \n",
    "        label=f'Class {label}', \n",
    "        color=cmap(label - 1),\n",
    "        s=40)\n",
    "\n",
    "# Customize the plot\n",
    "plt.xlabel(f'{x_band.capitalize()}', fontsize=11)\n",
    "plt.ylabel(f'{y_band.capitalize()}', fontsize=11)\n",
    "plt.legend(loc=0)\n",
    "plt.tight_layout()\n",
    "\n",
    "# Show the plot\n",
    "plt.show()"
   ]
  },
  {
   "cell_type": "markdown",
   "id": "e9139bec-0fa0-4a61-8ff2-c3b9ccc19d26",
   "metadata": {},
   "source": [
    "This is really useful. It looks like we should have no problem distinguishing between Class 1 (cleared), Class 2 (forest), Class 3 (grass), and Class 7 (sand). However, it might be difficult distinguishing between our different water classes 4, 5, and 6 (i.e. lake, ocean, and river). "
   ]
  },
  {
   "cell_type": "markdown",
   "id": "55705ac1-f2b1-4286-ad73-fcc42abd0056",
   "metadata": {},
   "source": [
    "## M-statistic\n",
    "\n",
    "The M-statistic is a measure of class separability, often used in remote sensing and classification analysis. It evaluates how distinct two classes are by comparing the distance between their mean values relative to their standard deviations.\n",
    "\n",
    "Below is a function to compute the M-statistic for two classes at a time."
   ]
  },
  {
   "cell_type": "code",
   "execution_count": 154,
   "id": "3546b0f9-1f90-4953-a08b-e4965dbc9b30",
   "metadata": {},
   "outputs": [],
   "source": [
    "def m_statistic(c1, c2):\n",
    "    # Extract data for Class 1 and Class 2\n",
    "    class_1 = training_data[training_data['labels'] == c1][['band1', 'band2', 'band3', 'band4', 'band5', 'band6', 'band7']]\n",
    "    class_2 = training_data[training_data['labels'] == c2][['band1', 'band2', 'band3', 'band4', 'band5', 'band6', 'band7']]\n",
    "    \n",
    "    # Compute means and standard deviations for each band\n",
    "    mean_1 = class_1.mean()\n",
    "    mean_2 = class_2.mean()\n",
    "    \n",
    "    std_1 = class_1.std()\n",
    "    std_2 = class_2.std()\n",
    "    \n",
    "    # Compute M-statistic for each band\n",
    "    M_statistic = (abs(mean_1 - mean_2)) / np.sqrt(std_1**2 + std_2**2)\n",
    "    \n",
    "    # Display results\n",
    "    return(M_statistic)"
   ]
  },
  {
   "cell_type": "code",
   "execution_count": 156,
   "id": "337cebec-dd12-40e0-b72f-3be8cb3b8fa5",
   "metadata": {},
   "outputs": [
    {
     "data": {
      "text/plain": [
       "band1    2.906937\n",
       "band2    3.384646\n",
       "band3    2.807394\n",
       "band4    3.653126\n",
       "band5    0.064677\n",
       "band6    3.030287\n",
       "band7    3.367483\n",
       "dtype: float64"
      ]
     },
     "execution_count": 156,
     "metadata": {},
     "output_type": "execute_result"
    }
   ],
   "source": [
    "m_statistic(1, 2)"
   ]
  },
  {
   "cell_type": "markdown",
   "id": "fd8a9112-fa46-4ab6-bebe-c6e9bfff14dd",
   "metadata": {},
   "source": [
    "````{margin}\n",
    "```{note}\n",
    "M < 1: Poor separability.\n",
    "1 ≤ M ≤ 2: Moderate separability.\n",
    "M > 2: Good separability.\n",
    "```\n",
    "````"
   ]
  },
  {
   "cell_type": "markdown",
   "id": "c1f4dbf5-c369-4799-b7b2-9c01904a5906",
   "metadata": {},
   "source": [
    "The M-Statistic confirms that there should be good separability between Classes 1 (cleared) and 2 (forest) for all the bands except Band 5. "
   ]
  },
  {
   "cell_type": "code",
   "execution_count": 157,
   "id": "4c26ecbe-d6ea-446d-95f8-de11e1d7c218",
   "metadata": {},
   "outputs": [
    {
     "data": {
      "text/plain": [
       "band1    0.471940\n",
       "band2    0.810753\n",
       "band3    1.106840\n",
       "band4    1.339791\n",
       "band5    0.709128\n",
       "band6    0.201126\n",
       "band7    0.282104\n",
       "dtype: float64"
      ]
     },
     "execution_count": 157,
     "metadata": {},
     "output_type": "execute_result"
    }
   ],
   "source": [
    "m_statistic(4, 5)"
   ]
  },
  {
   "cell_type": "markdown",
   "id": "17363efa-d122-478b-80da-07334ebcf94e",
   "metadata": {},
   "source": [
    "In contrast, the M-Statistic shows that Classes 4 (lake) and 5 (ocean) are going to be difficult to separate. If we are, we might have best success using Band 3 and 4. "
   ]
  },
  {
   "cell_type": "code",
   "execution_count": null,
   "id": "f89c6a51-5ca8-45be-910d-23b3f2e9a7bd",
   "metadata": {},
   "outputs": [],
   "source": []
  }
 ],
 "metadata": {
  "kernelspec": {
   "display_name": "Python 3 (ipykernel)",
   "language": "python",
   "name": "python3"
  },
  "language_info": {
   "codemirror_mode": {
    "name": "ipython",
    "version": 3
   },
   "file_extension": ".py",
   "mimetype": "text/x-python",
   "name": "python",
   "nbconvert_exporter": "python",
   "pygments_lexer": "ipython3",
   "version": "3.12.8"
  }
 },
 "nbformat": 4,
 "nbformat_minor": 5
}
