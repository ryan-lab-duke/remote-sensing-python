{
 "cells": [
  {
   "cell_type": "markdown",
   "id": "d2bc3def",
   "metadata": {},
   "source": [
    "# Practice activity\n",
    "\n",
    "If you have installed Python locally, launch JupyterLab by running:\n",
    "\n",
    "```\n",
    "conda activate sds\n",
    "```\n",
    "and\n",
    "\n",
    "```\n",
    "jupyter lab\n",
    "```\n",
    "\n",
    "*****************************\n",
    "\n",
    "## Remote sensing in Python\n",
    "\n",
    "## Task 1 (10 points)\n",
    "\n",
    "* a) Download the Landsat data from [here](https://www.dropbox.com/sh/k3bkxwa2j9fovta/AADX4yZiIAEHiG9VPcyCON2pa?dl=0).\n",
    "\n",
    "* b) Read each band (i.e. `src1 = rasterio.open(files[0])`) and scale the values between 0 and 1 by dividing by the maximum value of a 16-bit integer (i.e. `band1 = src1.read(1) / 65536`).\n",
    "\n",
    "* c) Compute all eight of the spectral indices on [this website](https://www.usgs.gov/landsat-missions/landsat-surface-reflectance-derived-spectral-indices). For each index, make a plot (with a colorbar and a different colormap for each one) to show your answers.\n",
    "\n",
    "```{note}\n",
    "Note that the images we are using are from **Landsat 8**.\n",
    "```\n",
    "\n",
    "```{important} \n",
    "Save your notebook to your local course folder and submit assignment (in **.pdf** format) to Canvas by the deadline.\n",
    "```\n"
   ]
  }
 ],
 "metadata": {
  "kernelspec": {
   "display_name": "Python 3 (ipykernel)",
   "language": "python",
   "name": "python3"
  },
  "language_info": {
   "codemirror_mode": {
    "name": "ipython",
    "version": 3
   },
   "file_extension": ".py",
   "mimetype": "text/x-python",
   "name": "python",
   "nbconvert_exporter": "python",
   "pygments_lexer": "ipython3",
   "version": "3.9.18"
  }
 },
 "nbformat": 4,
 "nbformat_minor": 5
}
