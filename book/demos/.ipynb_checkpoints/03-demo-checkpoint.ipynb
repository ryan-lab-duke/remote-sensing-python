{
 "cells": [
  {
   "cell_type": "markdown",
   "id": "ab10305c-d2f2-4b8d-8dec-b67f5e06ab02",
   "metadata": {},
   "source": [
    "# Demo 3\n",
    "\n",
    "The lab this week is a continuation of the previous week. We will use the training dataset that we generated last week to classify every pixel in our remote sensing image. Then we will evaluate our classification using a confusion matrix. "
   ]
  },
  {
   "cell_type": "markdown",
   "id": "62b939a0-d2a1-44fa-9a68-0a29118d950b",
   "metadata": {},
   "source": [
    "```{note}\n",
    "I forgot to tell you to save the training dataset last week. So you will need to re-run your code for that assignment and save the training dataset using `training_data.to_csv('data/training_dataset.csv')`\n",
    "```"
   ]
  },
  {
   "cell_type": "code",
   "execution_count": 135,
   "id": "d5d15640-50ad-4bed-8f44-0e6528aacd11",
   "metadata": {},
   "outputs": [
    {
     "data": {
      "text/html": [
       "<div>\n",
       "<style scoped>\n",
       "    .dataframe tbody tr th:only-of-type {\n",
       "        vertical-align: middle;\n",
       "    }\n",
       "\n",
       "    .dataframe tbody tr th {\n",
       "        vertical-align: top;\n",
       "    }\n",
       "\n",
       "    .dataframe thead th {\n",
       "        text-align: right;\n",
       "    }\n",
       "</style>\n",
       "<table border=\"1\" class=\"dataframe\">\n",
       "  <thead>\n",
       "    <tr style=\"text-align: right;\">\n",
       "      <th></th>\n",
       "      <th>band1</th>\n",
       "      <th>band2</th>\n",
       "      <th>band3</th>\n",
       "      <th>band4</th>\n",
       "      <th>band5</th>\n",
       "      <th>band6</th>\n",
       "      <th>band7</th>\n",
       "      <th>labels</th>\n",
       "    </tr>\n",
       "  </thead>\n",
       "  <tbody>\n",
       "    <tr>\n",
       "      <th>0</th>\n",
       "      <td>8285</td>\n",
       "      <td>8488</td>\n",
       "      <td>9276</td>\n",
       "      <td>9774</td>\n",
       "      <td>13948</td>\n",
       "      <td>16238</td>\n",
       "      <td>12979</td>\n",
       "      <td>1</td>\n",
       "    </tr>\n",
       "    <tr>\n",
       "      <th>1</th>\n",
       "      <td>8320</td>\n",
       "      <td>8529</td>\n",
       "      <td>9257</td>\n",
       "      <td>9797</td>\n",
       "      <td>14101</td>\n",
       "      <td>16360</td>\n",
       "      <td>13168</td>\n",
       "      <td>1</td>\n",
       "    </tr>\n",
       "    <tr>\n",
       "      <th>2</th>\n",
       "      <td>8404</td>\n",
       "      <td>8623</td>\n",
       "      <td>9381</td>\n",
       "      <td>9907</td>\n",
       "      <td>14222</td>\n",
       "      <td>16337</td>\n",
       "      <td>13152</td>\n",
       "      <td>1</td>\n",
       "    </tr>\n",
       "    <tr>\n",
       "      <th>3</th>\n",
       "      <td>8740</td>\n",
       "      <td>9015</td>\n",
       "      <td>9852</td>\n",
       "      <td>10619</td>\n",
       "      <td>14269</td>\n",
       "      <td>17921</td>\n",
       "      <td>14906</td>\n",
       "      <td>1</td>\n",
       "    </tr>\n",
       "    <tr>\n",
       "      <th>4</th>\n",
       "      <td>8510</td>\n",
       "      <td>8727</td>\n",
       "      <td>9620</td>\n",
       "      <td>10169</td>\n",
       "      <td>14885</td>\n",
       "      <td>16912</td>\n",
       "      <td>13714</td>\n",
       "      <td>1</td>\n",
       "    </tr>\n",
       "  </tbody>\n",
       "</table>\n",
       "</div>"
      ],
      "text/plain": [
       "   band1  band2  band3  band4  band5  band6  band7  labels\n",
       "0   8285   8488   9276   9774  13948  16238  12979       1\n",
       "1   8320   8529   9257   9797  14101  16360  13168       1\n",
       "2   8404   8623   9381   9907  14222  16337  13152       1\n",
       "3   8740   9015   9852  10619  14269  17921  14906       1\n",
       "4   8510   8727   9620  10169  14885  16912  13714       1"
      ]
     },
     "execution_count": 135,
     "metadata": {},
     "output_type": "execute_result"
    }
   ],
   "source": [
    "# Import packages\n",
    "import glob\n",
    "import rasterio\n",
    "import pandas as pd\n",
    "import numpy as np\n",
    "import matplotlib.pyplot as plt\n",
    "\n",
    "# Import training dataset\n",
    "training_data = pd.read_csv('data/training_dataset.csv')\n",
    "training_data.head()"
   ]
  },
  {
   "cell_type": "markdown",
   "id": "93cd7ac5-db4a-4750-a092-bf7bab538b9c",
   "metadata": {},
   "source": [
    "## Classification\n",
    "\n",
    "### K-nearest Neighbors\n",
    "\n",
    "We will start with a simple [K-nearest neighbors classifcation](https://scikit-learn.org/stable/modules/generated/sklearn.neighbors.KNeighborsClassifier.html#kneighborsclassifier). This approach will classify new \"unseen\" points by finding the K closest labelled points. The main decision we have to make is the number of neighbors (i.e. `n_neighbors`) which defaults to 5 but can be customized. The standard version of this algorithm will then use a majority vote to determine which class to assign the new point (hence we typically set K to an odd value). "
   ]
  },
  {
   "cell_type": "markdown",
   "id": "b224f60c-4455-4f3c-91d9-8d8eea8d5f92",
   "metadata": {},
   "source": [
    "### Split training and testing data"
   ]
  },
  {
   "cell_type": "markdown",
   "id": "4d49d642-dfec-48e6-91e4-2b0a8c0f27ce",
   "metadata": {},
   "source": [
    "The K-nearest neighbors classifcation can be accessed using a package called `scikit-learn`. But before we do that, we need to format our training dataset into separate features (`X`) and labels (`y`)."
   ]
  },
  {
   "cell_type": "code",
   "execution_count": 136,
   "id": "2cdeb042-c61e-4228-a40f-504b6c7b9087",
   "metadata": {},
   "outputs": [],
   "source": [
    "X = training_data[['band1', 'band2', 'band3', 'band4', 'band5', 'band6', 'band7']]\n",
    "y = training_data['labels']"
   ]
  },
  {
   "cell_type": "markdown",
   "id": "0e3cf6c6-2645-40e5-9b61-dda26f13c129",
   "metadata": {},
   "source": [
    "We also need to separate our data in training and testing data. Our testing data will not be used to train the classifier so we can use it to independently evaluate the classifier's performance. In the code below, we will reserve 20% of the data for testing (i.e. `test_size=0.2`). "
   ]
  },
  {
   "cell_type": "code",
   "execution_count": 137,
   "id": "e573efac-f615-481a-a890-1e3dbfab8dca",
   "metadata": {},
   "outputs": [],
   "source": [
    "from sklearn.model_selection import train_test_split\n",
    "\n",
    "# Split into training and testing data\n",
    "X_train, X_test, y_train, y_test = train_test_split(X, y, test_size=0.2, random_state=42)"
   ]
  },
  {
   "cell_type": "markdown",
   "id": "788e226d-696a-493c-adc3-1400e9da8cff",
   "metadata": {},
   "source": [
    "````{margin}\n",
    "```{note}\n",
    "The [`random_state`](https://scikit-learn.org/stable/glossary.html#term-random_state) argument controls the shuffling applied to the data before applying the split. We can pass an `int` for reproducible output across multiple function calls. \n",
    "```\n",
    "````"
   ]
  },
  {
   "cell_type": "markdown",
   "id": "62fe9f89-61af-4e87-b7e7-58bc925d59db",
   "metadata": {},
   "source": [
    "### Define classifier, fit classifier, and predict labels\n",
    "\n",
    "Now we can apply the K-nearest neighbors classifier to our training data like so:"
   ]
  },
  {
   "cell_type": "code",
   "execution_count": 138,
   "id": "a70166c9-fd8e-4105-8389-9b9e089932a0",
   "metadata": {},
   "outputs": [
    {
     "data": {
      "text/plain": [
       "array([5, 3, 5, ..., 5, 5, 5], shape=(1373,))"
      ]
     },
     "execution_count": 138,
     "metadata": {},
     "output_type": "execute_result"
    }
   ],
   "source": [
    "from sklearn.neighbors import KNeighborsClassifier\n",
    "\n",
    "# Define classifier\n",
    "knn = KNeighborsClassifier(n_neighbors=11)\n",
    "\n",
    "# Fit classifier\n",
    "knn.fit(X_train, y_train)\n",
    "\n",
    "# Make predictions\n",
    "y_pred = knn.predict(X_test)\n",
    "y_pred"
   ]
  },
  {
   "cell_type": "markdown",
   "id": "7c500ca6-46ab-43ac-87c6-43143255a7e0",
   "metadata": {},
   "source": [
    "### Evaluate classifier\n",
    "\n",
    "The `y_pred` variable contains a list of **predicted** labels for each row of the testing dataset. We can compare these predicted labels to the actual labels using a **confusion matrix** to understand how our classifier is performing. "
   ]
  },
  {
   "cell_type": "code",
   "execution_count": 139,
   "id": "c5e21d26-1c38-4a7d-9b53-5593c4d4222e",
   "metadata": {},
   "outputs": [
    {
     "data": {
      "text/html": [
       "<div>\n",
       "<style scoped>\n",
       "    .dataframe tbody tr th:only-of-type {\n",
       "        vertical-align: middle;\n",
       "    }\n",
       "\n",
       "    .dataframe tbody tr th {\n",
       "        vertical-align: top;\n",
       "    }\n",
       "\n",
       "    .dataframe thead th {\n",
       "        text-align: right;\n",
       "    }\n",
       "</style>\n",
       "<table border=\"1\" class=\"dataframe\">\n",
       "  <thead>\n",
       "    <tr style=\"text-align: right;\">\n",
       "      <th>Predicted</th>\n",
       "      <th>cleared</th>\n",
       "      <th>forest</th>\n",
       "      <th>grass</th>\n",
       "      <th>lake</th>\n",
       "      <th>ocean</th>\n",
       "      <th>river</th>\n",
       "      <th>sand</th>\n",
       "    </tr>\n",
       "    <tr>\n",
       "      <th>Actual</th>\n",
       "      <th></th>\n",
       "      <th></th>\n",
       "      <th></th>\n",
       "      <th></th>\n",
       "      <th></th>\n",
       "      <th></th>\n",
       "      <th></th>\n",
       "    </tr>\n",
       "  </thead>\n",
       "  <tbody>\n",
       "    <tr>\n",
       "      <th>cleared</th>\n",
       "      <td>175</td>\n",
       "      <td>0</td>\n",
       "      <td>6</td>\n",
       "      <td>0</td>\n",
       "      <td>0</td>\n",
       "      <td>0</td>\n",
       "      <td>0</td>\n",
       "    </tr>\n",
       "    <tr>\n",
       "      <th>forest</th>\n",
       "      <td>0</td>\n",
       "      <td>133</td>\n",
       "      <td>0</td>\n",
       "      <td>0</td>\n",
       "      <td>0</td>\n",
       "      <td>0</td>\n",
       "      <td>0</td>\n",
       "    </tr>\n",
       "    <tr>\n",
       "      <th>grass</th>\n",
       "      <td>1</td>\n",
       "      <td>0</td>\n",
       "      <td>173</td>\n",
       "      <td>0</td>\n",
       "      <td>0</td>\n",
       "      <td>0</td>\n",
       "      <td>0</td>\n",
       "    </tr>\n",
       "    <tr>\n",
       "      <th>lake</th>\n",
       "      <td>0</td>\n",
       "      <td>0</td>\n",
       "      <td>0</td>\n",
       "      <td>138</td>\n",
       "      <td>0</td>\n",
       "      <td>1</td>\n",
       "      <td>0</td>\n",
       "    </tr>\n",
       "    <tr>\n",
       "      <th>ocean</th>\n",
       "      <td>0</td>\n",
       "      <td>0</td>\n",
       "      <td>0</td>\n",
       "      <td>0</td>\n",
       "      <td>603</td>\n",
       "      <td>0</td>\n",
       "      <td>0</td>\n",
       "    </tr>\n",
       "    <tr>\n",
       "      <th>river</th>\n",
       "      <td>0</td>\n",
       "      <td>0</td>\n",
       "      <td>0</td>\n",
       "      <td>0</td>\n",
       "      <td>0</td>\n",
       "      <td>83</td>\n",
       "      <td>0</td>\n",
       "    </tr>\n",
       "    <tr>\n",
       "      <th>sand</th>\n",
       "      <td>0</td>\n",
       "      <td>0</td>\n",
       "      <td>0</td>\n",
       "      <td>0</td>\n",
       "      <td>0</td>\n",
       "      <td>0</td>\n",
       "      <td>60</td>\n",
       "    </tr>\n",
       "  </tbody>\n",
       "</table>\n",
       "</div>"
      ],
      "text/plain": [
       "Predicted  cleared  forest  grass  lake  ocean  river  sand\n",
       "Actual                                                     \n",
       "cleared        175       0      6     0      0      0     0\n",
       "forest           0     133      0     0      0      0     0\n",
       "grass            1       0    173     0      0      0     0\n",
       "lake             0       0      0   138      0      1     0\n",
       "ocean            0       0      0     0    603      0     0\n",
       "river            0       0      0     0      0     83     0\n",
       "sand             0       0      0     0      0      0    60"
      ]
     },
     "execution_count": 139,
     "metadata": {},
     "output_type": "execute_result"
    }
   ],
   "source": [
    "from sklearn.metrics import confusion_matrix\n",
    "\n",
    "# Define class labels\n",
    "class_labels = ['cleared', 'forest', 'grass', 'lake', 'ocean', 'river', 'sand']\n",
    "\n",
    "# Compute confusion matrix\n",
    "cm = confusion_matrix(y_test, y_pred)\n",
    "\n",
    "# Convert to DataFrame\n",
    "cm_df = pd.DataFrame(cm, index=class_labels, columns=class_labels)\n",
    "\n",
    "# Rename index and columns for clarity\n",
    "cm_df.index.name = \"Actual\"\n",
    "cm_df.columns.name = \"Predicted\"\n",
    "cm_df"
   ]
  },
  {
   "cell_type": "markdown",
   "id": "527e1c65-2eb4-4e69-a0b9-76918d043402",
   "metadata": {},
   "source": [
    "It looks like the classification did a pretty good job. Although our confusion matrix shows that our classifier mislabelled **6 points** as `grass` when they should have been `cleared`. It also mislabelled one point as `cleared` when it should have been `grass`. \n",
    "\n",
    "`sklearn` has a function for computing the errors of commission and omission although it terms them **precision** and **recall**. "
   ]
  },
  {
   "cell_type": "code",
   "execution_count": 140,
   "id": "9d9161b1-6ccd-42f1-9170-b714c4465285",
   "metadata": {},
   "outputs": [],
   "source": [
    "from sklearn.metrics import precision_score\n",
    "from sklearn.metrics import recall_score\n",
    "from sklearn.metrics import accuracy_score\n",
    "\n",
    "precisions = precision_score(y_test, y_pred, average=None)\n",
    "recalls = recall_score(y_test, y_pred, average=None)"
   ]
  },
  {
   "cell_type": "code",
   "execution_count": 141,
   "id": "ce983013-f5fd-4cb6-adef-81257bb5c93c",
   "metadata": {},
   "outputs": [
    {
     "data": {
      "text/html": [
       "<div>\n",
       "<style scoped>\n",
       "    .dataframe tbody tr th:only-of-type {\n",
       "        vertical-align: middle;\n",
       "    }\n",
       "\n",
       "    .dataframe tbody tr th {\n",
       "        vertical-align: top;\n",
       "    }\n",
       "\n",
       "    .dataframe thead th {\n",
       "        text-align: right;\n",
       "    }\n",
       "</style>\n",
       "<table border=\"1\" class=\"dataframe\">\n",
       "  <thead>\n",
       "    <tr style=\"text-align: right;\">\n",
       "      <th></th>\n",
       "      <th>precision</th>\n",
       "      <th>recall</th>\n",
       "    </tr>\n",
       "  </thead>\n",
       "  <tbody>\n",
       "    <tr>\n",
       "      <th>cleared</th>\n",
       "      <td>0.994318</td>\n",
       "      <td>0.966851</td>\n",
       "    </tr>\n",
       "    <tr>\n",
       "      <th>forest</th>\n",
       "      <td>1.000000</td>\n",
       "      <td>1.000000</td>\n",
       "    </tr>\n",
       "    <tr>\n",
       "      <th>grass</th>\n",
       "      <td>0.966480</td>\n",
       "      <td>0.994253</td>\n",
       "    </tr>\n",
       "    <tr>\n",
       "      <th>lake</th>\n",
       "      <td>1.000000</td>\n",
       "      <td>0.992806</td>\n",
       "    </tr>\n",
       "    <tr>\n",
       "      <th>ocean</th>\n",
       "      <td>1.000000</td>\n",
       "      <td>1.000000</td>\n",
       "    </tr>\n",
       "    <tr>\n",
       "      <th>river</th>\n",
       "      <td>0.988095</td>\n",
       "      <td>1.000000</td>\n",
       "    </tr>\n",
       "    <tr>\n",
       "      <th>sand</th>\n",
       "      <td>1.000000</td>\n",
       "      <td>1.000000</td>\n",
       "    </tr>\n",
       "  </tbody>\n",
       "</table>\n",
       "</div>"
      ],
      "text/plain": [
       "         precision    recall\n",
       "cleared   0.994318  0.966851\n",
       "forest    1.000000  1.000000\n",
       "grass     0.966480  0.994253\n",
       "lake      1.000000  0.992806\n",
       "ocean     1.000000  1.000000\n",
       "river     0.988095  1.000000\n",
       "sand      1.000000  1.000000"
      ]
     },
     "execution_count": 141,
     "metadata": {},
     "output_type": "execute_result"
    }
   ],
   "source": [
    "error_df = pd.DataFrame(list(zip(precisions, recalls)), index=class_labels, columns=['precision', 'recall'])\n",
    "error_df"
   ]
  },
  {
   "cell_type": "markdown",
   "id": "d6da93cc-8b1f-45a5-82d7-3e9f35fd500d",
   "metadata": {},
   "source": [
    "Finally, we can find the overall accuracy of our classifier like so:"
   ]
  },
  {
   "cell_type": "code",
   "execution_count": 142,
   "id": "dac547fe-9b88-4982-9b25-595453107fbd",
   "metadata": {},
   "outputs": [
    {
     "data": {
      "text/plain": [
       "0.9941733430444283"
      ]
     },
     "execution_count": 142,
     "metadata": {},
     "output_type": "execute_result"
    }
   ],
   "source": [
    "overall_accuracy = accuracy_score(y_test, y_pred)\n",
    "overall_accuracy"
   ]
  },
  {
   "cell_type": "markdown",
   "id": "03badedf-01ac-429d-ba56-a163a4417419",
   "metadata": {},
   "source": [
    "### Classify whole image\n",
    "\n",
    "Since our classifier is performing pretty accurately according to our testing data, we can go ahead and classify every pixel in our Landat image. To do this, we first have to import all the **features** that our classifier used. In this case, this is just the seven bands from the image. But note that if the classifier was trained on a spectral index, then we would have to import that as well."
   ]
  },
  {
   "cell_type": "code",
   "execution_count": 143,
   "id": "58782497-9165-4483-ad8b-393a01bbfbca",
   "metadata": {},
   "outputs": [
    {
     "data": {
      "text/plain": [
       "(1717776, 7)"
      ]
     },
     "execution_count": 143,
     "metadata": {},
     "output_type": "execute_result"
    }
   ],
   "source": [
    "# Define list of Landsat bands\n",
    "files = sorted(glob.glob('data/landsat/*.tif'))\n",
    "\n",
    "# Function to read a GeoTIFF file and return as a flattened array\n",
    "def read_geotiff(file_path):\n",
    "    with rasterio.open(file_path) as src:\n",
    "        return src.read(1).flatten()\n",
    "\n",
    "# Read each GeoTIFF file and store the data in a dictionary\n",
    "data = {f'band{i+1}': read_geotiff(file) for i, file in enumerate(files)}\n",
    "\n",
    "# Create DataFrame\n",
    "df = pd.DataFrame(data)\n",
    "df.shape"
   ]
  },
  {
   "cell_type": "markdown",
   "id": "e52ecd68-a2e7-4815-9cd9-8052843338fa",
   "metadata": {},
   "source": [
    "Each row of this DataFrame is a pixel in the Landsat image. We can predict the label of each pixel using our pre-trained classifier. "
   ]
  },
  {
   "cell_type": "markdown",
   "id": "8add049c-0a90-436a-8919-b52e86897dec",
   "metadata": {},
   "source": [
    "````{margin}\n",
    "```{note}\n",
    "The DataFrame must have the same column names as the `X_train` variable.\n",
    "```\n",
    "````"
   ]
  },
  {
   "cell_type": "code",
   "execution_count": null,
   "id": "69bc699c-c343-4f47-891b-3c15597c46d8",
   "metadata": {},
   "outputs": [],
   "source": [
    "y_pred = knn.predict(df)"
   ]
  },
  {
   "cell_type": "markdown",
   "id": "7df7be67-1c44-42de-8a98-0c425dbdeb6c",
   "metadata": {},
   "source": [
    "````{margin}\n",
    "```{note}\n",
    "This may take a few minutes.\n",
    "```\n",
    "````"
   ]
  },
  {
   "cell_type": "markdown",
   "id": "73735984-5d12-42e6-a9a0-daea615ae822",
   "metadata": {},
   "source": [
    "The variable `y_pred` is now a list of labels for each row, which we can add as a column to the original DataFrame."
   ]
  },
  {
   "cell_type": "code",
   "execution_count": null,
   "id": "3a1292d3-b318-4800-ad73-e25a67ec4dda",
   "metadata": {},
   "outputs": [],
   "source": [
    "df['labels'] = y_pred\n",
    "df.head()"
   ]
  },
  {
   "cell_type": "markdown",
   "id": "46b32921-71a2-4c7e-a746-857daaa16aac",
   "metadata": {},
   "source": [
    "One problem here is that the **NoData** values of the Landsat image (represented as zeros) are classified as **label 6**. It would be more sensible to classify these values as **zero**."
   ]
  },
  {
   "cell_type": "code",
   "execution_count": null,
   "id": "03952176-3c1a-405e-9066-98061fac9133",
   "metadata": {},
   "outputs": [],
   "source": [
    "# Set labels to zero where values in band 1 are equal to zero\n",
    "df.loc[df['band1'] == 0, 'labels'] = 0"
   ]
  },
  {
   "cell_type": "markdown",
   "id": "c398c857-1bf1-4b5f-abe0-1afadfd3aa0c",
   "metadata": {},
   "source": [
    "We can now `reshape` the labels column to the original 2D shape of the Landsat image. "
   ]
  },
  {
   "cell_type": "code",
   "execution_count": null,
   "id": "a28ef81a-d1ac-4d5a-a448-ee49e4c231e0",
   "metadata": {},
   "outputs": [],
   "source": [
    "# Find shape of one Landsat band\n",
    "src = rasterio.open(files[0])\n",
    "\n",
    "# Reshape\n",
    "y_pred_2d = df['labels'].values.reshape(src.shape)\n",
    "y_pred_2d.shape"
   ]
  },
  {
   "cell_type": "markdown",
   "id": "b5b8268a-7a1b-439f-8eaf-c712d08d11b4",
   "metadata": {},
   "source": [
    "### Plot\n",
    "\n",
    "We can qualitatively inspect our classification by plotting as a map with each class as a different color."
   ]
  },
  {
   "cell_type": "code",
   "execution_count": null,
   "id": "6d738c03-be32-44d6-9390-3e93101addc2",
   "metadata": {},
   "outputs": [],
   "source": [
    "import matplotlib.ticker as ticker\n",
    "\n",
    "# Define a colormap with seven distinct colors\n",
    "cmap = plt.get_cmap('tab10', 8)\n",
    "\n",
    "# Define new class labels\n",
    "class_labels = ['NaN', 'cleared', 'forest', 'grass', 'lake', 'ocean', 'river', 'sand']\n",
    "\n",
    "# Plot the classified image\n",
    "plt.figure(figsize=(9, 7))\n",
    "im = plt.imshow(y_pred_2d, cmap=cmap, vmin=0, vmax=7)\n",
    "cbar = plt.colorbar(im, ticks=np.arange(8))\n",
    "\n",
    "# Center the labels in the colorbar\n",
    "tick_locs = (np.arange(8) + 0.5) * (7 / 8)\n",
    "cbar.ax.yaxis.set_major_locator(ticker.FixedLocator(tick_locs))\n",
    "cbar.ax.yaxis.set_major_formatter(ticker.FixedFormatter(class_labels))\n",
    "\n",
    "plt.show()"
   ]
  },
  {
   "cell_type": "markdown",
   "id": "9f085890-5498-4167-a5ca-b5c06a6beb78",
   "metadata": {},
   "source": [
    "Even though our testing dataset revealed that the accuracy of our classification was >99%, there are clearly errors. It looks like some of the `river` was classified as `lake`, and some of the `ocean` near the land was classified as `river` or `lake`. This is not surprising given the lack of separability between these three classes that we identified in the previous demo. Clearly our training dataset does not represent the full spectral range of these classes. We should go back into QGIS and digitize more training data in these areas to see if we can do a better job of classifying them. "
   ]
  },
  {
   "cell_type": "markdown",
   "id": "8ed91d04-7931-4524-91e8-8d5ef9af6944",
   "metadata": {},
   "source": [
    "### Export as GeoTIFF\n",
    "\n",
    "We can refine our training dataset in QGIS. But first it would be useful export our first classification attempt as a GeoTIFF to see where the errors are."
   ]
  },
  {
   "cell_type": "code",
   "execution_count": null,
   "id": "ee688be6-9051-4554-b36f-6b0b49489205",
   "metadata": {},
   "outputs": [],
   "source": [
    "with rasterio.open(\n",
    "        \"data/classified.tif\",\n",
    "        mode=\"w\",\n",
    "        driver=\"GTiff\",\n",
    "        height=y_pred_2d.shape[0],\n",
    "        width=y_pred_2d.shape[1],\n",
    "        count=1,\n",
    "        dtype=y_pred_2d.dtype,\n",
    "        crs=src.crs,\n",
    "        transform=src.transform,\n",
    ") as new_dataset:\n",
    "        new_dataset.write(y_pred_2d, 1)"
   ]
  },
  {
   "cell_type": "markdown",
   "id": "ac0ffd57-6c01-48dd-a337-0e8cd8844df0",
   "metadata": {},
   "source": [
    "This is the end of the demo."
   ]
  }
 ],
 "metadata": {
  "kernelspec": {
   "display_name": "Python 3 (ipykernel)",
   "language": "python",
   "name": "python3"
  },
  "language_info": {
   "codemirror_mode": {
    "name": "ipython",
    "version": 3
   },
   "file_extension": ".py",
   "mimetype": "text/x-python",
   "name": "python",
   "nbconvert_exporter": "python",
   "pygments_lexer": "ipython3",
   "version": "3.12.8"
  }
 },
 "nbformat": 4,
 "nbformat_minor": 5
}
