{
 "cells": [
  {
   "cell_type": "markdown",
   "id": "f9af1a36-92c5-4f5b-bf7e-226fdf38f7f2",
   "metadata": {},
   "source": [
    "# Assignment\n",
    "\n",
    "Before starting this assignment, follow the instructions to install Python, activate the course environment, and launch JupyterLab. \n",
    "\n",
    "```\n",
    "conda activate rs\n",
    "```\n",
    "and\n",
    "\n",
    "```\n",
    "jupyter lab\n",
    "```\n",
    "\n",
    "*****************************\n",
    "\n",
    "In this assignment, I would like you to produce a training dataset for the Landsat image that you downloaded for Lab #4. Once you have produced the training dataset, answer the following questions.\n",
    "\n",
    "## Task 1 (10 points)\n",
    "\n",
    "* a) List the features you decided to classify in your image?  \n",
    "\n",
    "* b) Produce three bi-spectral plots that provide insight into the separability of your classes.\n",
    "\n",
    "* c) Compute M-statistics (i.e. for each band) for each pair of classes. Discuss which classes are likely to be easily discriminated and which classes may be more challenging to discriminate.  \n",
    "\n",
    "```{important} \n",
    "Save your notebook to your local course folder and submit assignment (in **.pdf** format) to Canvas by the deadline.\n",
    "```\n"
   ]
  }
 ],
 "metadata": {
  "kernelspec": {
   "display_name": "Python 3 (ipykernel)",
   "language": "python",
   "name": "python3"
  },
  "language_info": {
   "codemirror_mode": {
    "name": "ipython",
    "version": 3
   },
   "file_extension": ".py",
   "mimetype": "text/x-python",
   "name": "python",
   "nbconvert_exporter": "python",
   "pygments_lexer": "ipython3",
   "version": "3.12.8"
  }
 },
 "nbformat": 4,
 "nbformat_minor": 5
}
