{
 "cells": [
  {
   "cell_type": "markdown",
   "id": "8d2757c3-84cc-49aa-a214-a85d2a75e999",
   "metadata": {},
   "source": [
    "# Install Python\n",
    "\n",
    "To start this lab, we will need to install a Python distribution with the necessary packages. We recommend using `conda`, an open-source package management system which can be installed using Miniconda (a lightweight version of [Anaconda](https://www.anaconda.com/products/individual)). \n",
    "\n",
    "## Miniconda\n",
    "\n",
    "The latest version of Miniconda can be accessed from the [dowload page](https://www.anaconda.com/download/success). Scroll down a bit and download the appropriate **Miniconda** package for your operating system."
   ]
  },
  {
   "cell_type": "markdown",
   "id": "e5384dee-14e6-462e-8ae8-38dccb6aeff8",
   "metadata": {},
   "source": [
    "## Test installation\n",
    "\n",
    "After installation is complete, we can test that the package manager `conda` works by opening an **Anaconda Prompt (miniconda3)** (Windows) or **Terminal** (Mac). \n",
    "\n",
    "In the command prompt (or Terminal) run the following:\n",
    "\n",
    "```\n",
    "conda --version\n",
    "```\n",
    "\n",
    "If the command returns a version number of conda (e.g. `conda 4.11.0`) everything is working correctly."
   ]
  },
  {
   "cell_type": "markdown",
   "id": "39329a30-57f1-42e5-ab7a-6ddaf1c8e9ee",
   "metadata": {},
   "source": [
    "## Create course environment\n",
    "\n",
    "The Python libraries needed for this course can be installed using an `environment.yml` file which can be downloaded from [here](https://prodduke-my.sharepoint.com/:u:/g/personal/jr555_duke_edu/EZlPDg4nsedEl36Kt1ZMayUB9F7NPq9hmm8aiaCy8es5hA?e=L2W3yP). \n",
    "\n",
    "We can install `environment.yml` by opening an **Anaconda Prompt (miniconda3)** (Windows) or **Terminal** (Mac), navigating to the file (i.e. `cd Downloads/`) and running the following command:\n",
    "\n",
    "```\n",
    "conda env create -f environment.yml\n",
    "```\n",
    "\n",
    "````{margin}\n",
    "```{note}\n",
    "More information about managing environments can be found [here](https://docs.conda.io/projects/conda/en/latest/user-guide/tasks/manage-environments.html).\n",
    "```\n",
    "````\n",
    "\n",
    "This may take some time so we recommend reading through the other lab materials while the packages are installing. But, if all goes well, we will have a new environment called `rs`. To activate this environment, type:\n",
    "\n",
    "```\n",
    "conda activate rs\n",
    "```"
   ]
  },
  {
   "cell_type": "markdown",
   "id": "89b048f0-0bd7-4995-8341-9d4ea7a1a657",
   "metadata": {},
   "source": [
    "## Jupyter Lab\n",
    "\n",
    "Now launch `JupyterLab` by typing:\n",
    "\n",
    "```\n",
    "jupyter lab\n",
    "```\n",
    "\n",
    "Once launched, we can open a new Jupyter Notebook by clicking `Python 3 (ipykernel)` button.\n",
    "\n",
    "```{image} images/notebook.png\n",
    ":alt: jupyterlab\n",
    ":class: bg-primary mb-1\n",
    ":width: 200px\n",
    ":align: center\n",
    "```"
   ]
  },
  {
   "cell_type": "markdown",
   "id": "7ccffdf5-6567-4898-b4a6-e3334ad78e29",
   "metadata": {},
   "source": [
    "## Check everything is working\n",
    "\n",
    "We can make sure that the `environment.yml` file installed correctly by copying and pasting the code below into the first cell of your Jupyter Notebook."
   ]
  },
  {
   "cell_type": "code",
   "execution_count": 1,
   "id": "33e95fe7-ebfd-4305-9c5a-b6f7ed49b0d2",
   "metadata": {},
   "outputs": [
    {
     "data": {
      "text/plain": [
       "5"
      ]
     },
     "execution_count": 1,
     "metadata": {},
     "output_type": "execute_result"
    }
   ],
   "source": [
    "import numpy as np\n",
    "c = np.add(2,3)\n",
    "c"
   ]
  },
  {
   "cell_type": "markdown",
   "id": "106958af-8307-4b4f-9d05-76f098e0e19b",
   "metadata": {},
   "source": [
    "Run the cells by pressing <kbd>Shift</kbd> + <kbd>Enter</kbd>. If everything is working correctly, this code block should return the number `5`.\n",
    "\n",
    "## Save assignment\n",
    "\n",
    "Save the notebook by clicking **File** &rarr; **Save Notebook As...** and naming the file something like `assignment-x.ipynb`, where `x` stands for the assignment number."
   ]
  },
  {
   "cell_type": "markdown",
   "id": "ddec4133-e046-4b76-ae7e-31d38deddf57",
   "metadata": {},
   "source": [
    "## Submit assignment\n",
    "\n",
    "This can be a little tricky. We recommend using <kbd>ctrl + p</kbd> (or <kbd>command + p</kbd>) &rarr; **Save as PDF**. You could also download the notebook by clicking **File** &rarr; **Save and Export Notebook As** &rarr; **PDF** but you may need to install some other packages.\n",
    "\n",
    "When you are finished with the assignment, the `.pdf` file should be moved to your local course folder and submitted via Canvas."
   ]
  },
  {
   "cell_type": "markdown",
   "id": "48b18641-3743-45d0-b952-005c3b81c3cc",
   "metadata": {},
   "source": [
    "## JupyterLab\n",
    "\n",
    "These instructions are just the absolute basics. For more information about JupyterLab, we suggest referring to their docs. The following pages are particularly relevant:\n",
    "\n",
    "* [The JupyterLab Interface](https://jupyterlab.readthedocs.io/en/stable/user/interface.html)\n",
    "* [Working with Files](https://jupyterlab.readthedocs.io/en/stable/user/files.html)\n",
    "* [The Text Editor](https://jupyterlab.readthedocs.io/en/stable/user/file_editor.html)\n",
    "* [Notebooks](https://jupyterlab.readthedocs.io/en/stable/user/notebook.html)\n",
    "* [Terminals](https://jupyterlab.readthedocs.io/en/stable/user/terminal.html)\n",
    "* [Managing Kernels and Terminals](https://jupyterlab.readthedocs.io/en/stable/user/running.html)"
   ]
  }
 ],
 "metadata": {
  "kernelspec": {
   "display_name": "Python 3 (ipykernel)",
   "language": "python",
   "name": "python3"
  },
  "language_info": {
   "codemirror_mode": {
    "name": "ipython",
    "version": 3
   },
   "file_extension": ".py",
   "mimetype": "text/x-python",
   "name": "python",
   "nbconvert_exporter": "python",
   "pygments_lexer": "ipython3",
   "version": "3.12.3"
  }
 },
 "nbformat": 4,
 "nbformat_minor": 5
}