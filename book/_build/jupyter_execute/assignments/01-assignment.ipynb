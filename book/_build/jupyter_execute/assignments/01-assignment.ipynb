{
 "cells": [
  {
   "cell_type": "markdown",
   "id": "d2bc3def",
   "metadata": {},
   "source": [
    "# Assignment\n",
    "\n",
    "Before starting this assignment, follow the instructions to install Python, activate the course environment, and launch JupyterLab. \n",
    "\n",
    "```\n",
    "conda activate rs\n",
    "```\n",
    "and\n",
    "\n",
    "```\n",
    "jupyter lab\n",
    "```\n",
    "\n",
    "*****************************\n",
    "\n",
    "In this assignment, we will be working with a Landsat 8 image of the Greenland Ice Sheet from Jul 24, 2015. The image can be downloaded from [here](https://prodduke-my.sharepoint.com/:i:/g/personal/jr555_duke_edu/EXhloccheWBEhVULB0DDhZ0BjhURBTBuJSIBSZhuMVJBUg?e=x5sGzL). There are three bands in this image corresponding to Blue, Green, and Red (in that order). \n",
    "\n",
    "## Task 1 (10 points)\n",
    "\n",
    "* a) Open the `landsat-rgb.tif` file (i.e. `src = rasterio.open('data/landsat-rgb.tif')`). How many rows and columns are in this image?\n",
    "\n",
    "* b) What is the coordinate reference system of this image? What is the spatial resolution of this image?\n",
    "\n",
    "* c) Read each band as a separate variable (e.g. `band1 = src.read(1)`) and scale the values between 0 and 1 by dividing by the maximum value of a 16-bit integer (i.e. `band1 = src1.read(1) / 65536`).\n",
    "\n",
    "* d) Stack the bands and plot a true color image.\n",
    "\n",
    "* e) Compute spectral index based on the RGB bands that emphasizes the water in the image. Once you have done that, make another plot (with a colorbar) to show your index.\n",
    "\n",
    "```{dropdown} Hint\n",
    "Access the first band of the stacked variable using `rgb[:,:,0]`.\n",
    "```\n",
    "\n",
    "* f) Export your spectral index as a GeoTIFF and open it in QGIS. If you were asked to distinguish between water and non-water pixels in your index, what threshold would you use? Note you can use the **Identify features** to obtain pixel values. \n",
    "\n",
    "\n",
    "```{important} \n",
    "Save your notebook to your local course folder and submit assignment (in **.pdf** format) to Canvas by the deadline.\n",
    "```\n"
   ]
  }
 ],
 "metadata": {
  "kernelspec": {
   "display_name": "Python 3 (ipykernel)",
   "language": "python",
   "name": "python3"
  },
  "language_info": {
   "codemirror_mode": {
    "name": "ipython",
    "version": 3
   },
   "file_extension": ".py",
   "mimetype": "text/x-python",
   "name": "python",
   "nbconvert_exporter": "python",
   "pygments_lexer": "ipython3",
   "version": "3.12.3"
  }
 },
 "nbformat": 4,
 "nbformat_minor": 5
}