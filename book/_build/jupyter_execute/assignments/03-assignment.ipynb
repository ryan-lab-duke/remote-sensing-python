{
 "cells": [
  {
   "cell_type": "markdown",
   "id": "d3b211ec-6754-470d-93aa-2bedc3f71c4b",
   "metadata": {},
   "source": [
    "# Assignment\n",
    "\n",
    "Before starting this assignment, follow the instructions to install Python, activate the course environment, and launch JupyterLab. \n",
    "\n",
    "```\n",
    "conda activate rs\n",
    "```\n",
    "and\n",
    "\n",
    "```\n",
    "jupyter lab\n",
    "```\n",
    "\n",
    "*****************************\n",
    "\n",
    "## Question 1 (10 points)\n",
    "\n",
    "For this assignment, I would like you to classify your Landsat image that you downloaded for Lab #4 using **K-nearest neighbors** and the training dataset that you produced in Lab #6. Remember to split a testing dataset from your training dataset (at least 20% of data) before training the classifier. \n",
    "\n",
    "* a) Produce a confusion matrix and discuss the quality of your classification in terms of errors of commission and omission using the confusion matrix and M-statistics for reference.\n",
    "\n",
    "## Question 2 (10 points)\n",
    "\n",
    "Export your classification as a GeoTIFF and edit your training data (i.e. the shapefiles) so that it includes polygons in places where your classifcation is inaccurate. Produce another confusion matrix based on the updated training data. \n",
    "\n",
    "* b) Discuss how the accuracy of your classification changes with respect to the testing dataset. Are you more or less happy with this classification relative to the original classification?\n",
    "\n",
    "## Question 3 (10 points)\n",
    "\n",
    "Classify the your Landsat image with **two more algorithms**, producing a confusion matrix for each. A list of supervised learning algorithms can be found [here](https://scikit-learn.org/stable/supervised_learning.html). Feel free to choose any, just make sure it can be used for clasification (as opposed to regression). \n",
    "\n",
    "* c) Discuss how the two other models perform relative to the K-nearest neighbors algorithm. \n",
    "\n",
    "```{important} \n",
    "Save your notebook to your local course folder and submit assignment (in **.pdf** format) to Canvas by the deadline.\n",
    "```\n"
   ]
  }
 ],
 "metadata": {
  "kernelspec": {
   "display_name": "Python 3 (ipykernel)",
   "language": "python",
   "name": "python3"
  },
  "language_info": {
   "codemirror_mode": {
    "name": "ipython",
    "version": 3
   },
   "file_extension": ".py",
   "mimetype": "text/x-python",
   "name": "python",
   "nbconvert_exporter": "python",
   "pygments_lexer": "ipython3",
   "version": "3.12.3"
  }
 },
 "nbformat": 4,
 "nbformat_minor": 5
}